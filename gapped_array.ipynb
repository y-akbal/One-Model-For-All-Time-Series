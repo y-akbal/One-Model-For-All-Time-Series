{
 "cells": [
  {
   "cell_type": "code",
   "execution_count": 8,
   "id": "9a0672d0",
   "metadata": {},
   "outputs": [],
   "source": [
    "import numpy as np\n",
    "a = [(-1)**i for i in range(10)]\n",
    "b = [(-2)**i for i in range(15)]\n",
    "c = [1 for i in range(10)]\n",
    "L = [10, 15, 10]\n",
    "lags = [5, 5, 5]\n",
    "m = np.concatenate([a,b,c], axis = 0)"
   ]
  },
  {
   "cell_type": "code",
   "execution_count": 10,
   "id": "1c3382f7",
   "metadata": {},
   "outputs": [],
   "source": [
    "class fiber:\n",
    "    def __init__(self, array:np.ndarray, lengths:np.ndarray,  lags:np.ndarray):\n",
    "        \"\"\"\n",
    "        array should be concatted arrays,\n",
    "        lengths should be the lengths of the individual arrays,\n",
    "        lags should be the lags to be used,\n",
    "        \"\"\"\n",
    "        assert len(lags) > 1, \"Come on dude this is a time series, you gotta be a bit serious !!!!\"\n",
    "        assert len(array) == sum(lengths), \"For partition, sum of the lengths should be equal to total size of the time series concattenated\"\n",
    "        ## -- ##\n",
    "        self.array = array\n",
    "        self.lengths = np.cumsum(lengths)\n",
    "        self.lags = lags\n",
    "        self.horizons = [len_ - lag+1 for len_, lag in zip(lengths, lags)]\n",
    "        self.cumhors = np.cumsum(horizons)\n",
    "\n",
    "    def __place__(self, x:int, array:np.ndarray)->int:\n",
    "        N = len(array, )                      \n",
    "        if 0 <= x < array[0]:\n",
    "            return 0\n",
    "        for i in range(N-1):\n",
    "            if  array[i] <= x < array[i+1]:\n",
    "                return i+1\n",
    "    \n",
    "    def __getitem__(self, i):\n",
    "        place = self.__place__(i, self.horizons)  \n",
    "        print(self.lags[place], place, self.horizons, self.lags)\n",
    "        return i\n",
    " \n",
    "    def __len__(self)->int:\n",
    "        return len(self.array) - self.lags[-1] + len(self.lags)"
   ]
  },
  {
   "cell_type": "code",
   "execution_count": 140,
   "id": "3518bd6e",
   "metadata": {},
   "outputs": [],
   "source": [
    "def place(x:int, array:np.ndarray)->int:\n",
    "    N = len(array, )\n",
    "    if x < array[0]:\n",
    "        return 0\n",
    "    for i in range(N-1):\n",
    "        if  array[i] <= x < array[i+1]:\n",
    "            return i+1"
   ]
  },
  {
   "cell_type": "code",
   "execution_count": 198,
   "id": "6ad24902",
   "metadata": {},
   "outputs": [],
   "source": [
    "import numpy as np\n",
    "a = [(-1)**i for i in range(15)]\n",
    "b = [(-2)**(i+1) for i in range(10)]\n",
    "c = [1 for i in range(6)]\n",
    "n = [5 for i in range(8)]\n",
    "\n",
    "L = [15, 10, 6,8]\n",
    "\n",
    "lags = [3, 4, 3, 2]\n",
    "lags_ = [u-v+1 for u,v in zip(L,lags)]\n",
    "t = {i:j-i for i,j in enumerate(np.cumsum([0]+lags[:-1]))}\n",
    "m = np.concatenate([a,b,c,n], axis = 0)"
   ]
  },
  {
   "cell_type": "code",
   "execution_count": 199,
   "id": "98dd4f5b",
   "metadata": {},
   "outputs": [],
   "source": [
    "def ind(i):\n",
    "    place_ = place(i, np.cumsum(lags_))\n",
    "    return i+t[place_], place_, m[i+t[place_]:i+t[place_]+lags[place_] ]"
   ]
  },
  {
   "cell_type": "code",
   "execution_count": 200,
   "id": "8f4ddeec",
   "metadata": {},
   "outputs": [
    {
     "name": "stdout",
     "output_type": "stream",
     "text": [
      "(0, 0, array([ 1, -1,  1])) 0\n",
      "(1, 0, array([-1,  1, -1])) 1\n",
      "(2, 0, array([ 1, -1,  1])) 2\n",
      "(3, 0, array([-1,  1, -1])) 3\n",
      "(4, 0, array([ 1, -1,  1])) 4\n",
      "(5, 0, array([-1,  1, -1])) 5\n",
      "(6, 0, array([ 1, -1,  1])) 6\n",
      "(7, 0, array([-1,  1, -1])) 7\n",
      "(8, 0, array([ 1, -1,  1])) 8\n",
      "(9, 0, array([-1,  1, -1])) 9\n",
      "(10, 0, array([ 1, -1,  1])) 10\n",
      "(11, 0, array([-1,  1, -1])) 11\n",
      "(12, 0, array([ 1, -1,  1])) 12\n",
      "(15, 1, array([-2,  4, -8, 16])) 13\n",
      "(16, 1, array([  4,  -8,  16, -32])) 14\n",
      "(17, 1, array([ -8,  16, -32,  64])) 15\n",
      "(18, 1, array([  16,  -32,   64, -128])) 16\n",
      "(19, 1, array([ -32,   64, -128,  256])) 17\n",
      "(20, 1, array([  64, -128,  256, -512])) 18\n",
      "(21, 1, array([-128,  256, -512, 1024])) 19\n",
      "(25, 2, array([1, 1, 1])) 20\n",
      "(26, 2, array([1, 1, 1])) 21\n",
      "(27, 2, array([1, 1, 1])) 22\n",
      "(28, 2, array([1, 1, 1])) 23\n",
      "(31, 3, array([5, 5])) 24\n",
      "(32, 3, array([5, 5])) 25\n",
      "(33, 3, array([5, 5])) 26\n",
      "(34, 3, array([5, 5])) 27\n",
      "(35, 3, array([5, 5])) 28\n",
      "(36, 3, array([5, 5])) 29\n",
      "(37, 3, array([5, 5])) 30\n"
     ]
    }
   ],
   "source": [
    "for i in range(1000):\n",
    "    try:\n",
    "        print(ind(i),i)\n",
    "    except Exception:\n",
    "        \n",
    "        break"
   ]
  },
  {
   "cell_type": "code",
   "execution_count": null,
   "id": "1bdb59ac",
   "metadata": {},
   "outputs": [],
   "source": []
  }
 ],
 "metadata": {
  "kernelspec": {
   "display_name": "Python 3 (ipykernel)",
   "language": "python",
   "name": "python3"
  },
  "language_info": {
   "codemirror_mode": {
    "name": "ipython",
    "version": 3
   },
   "file_extension": ".py",
   "mimetype": "text/x-python",
   "name": "python",
   "nbconvert_exporter": "python",
   "pygments_lexer": "ipython3",
   "version": "3.9.12"
  }
 },
 "nbformat": 4,
 "nbformat_minor": 5
}
