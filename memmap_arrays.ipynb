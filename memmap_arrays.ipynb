{
 "cells": [
  {
   "cell_type": "code",
   "execution_count": 58,
   "id": "e4a30841",
   "metadata": {},
   "outputs": [],
   "source": [
    "import os\n",
    "import pandas as pd\n",
    "import numpy as np"
   ]
  },
  {
   "cell_type": "code",
   "execution_count": 59,
   "id": "bd36d769",
   "metadata": {},
   "outputs": [],
   "source": [
    "a = pd.DataFrame(np.ones(1000000)).to_csv(\"a.csv\")\n",
    "b = pd.DataFrame(2*np.ones(2000000)).to_csv(\"b.csv\")\n",
    "c = pd.DataFrame(3*np.ones(2000000)).to_csv(\"c.csv\")\n",
    "d = pd.DataFrame(4*np.ones(2000000)).to_csv(\"d.csv\")"
   ]
  },
  {
   "cell_type": "code",
   "execution_count": 102,
   "id": "975b0130",
   "metadata": {},
   "outputs": [],
   "source": [
    "class memmap_array:\n",
    "    def __init__(self, name = \"array.dat\"):\n",
    "        self.lengths = None\n",
    "        self.array = None\n",
    "        self.name = name\n",
    "        self.fitted = False\n",
    "        \n",
    "    def __getitem__(self, i):\n",
    "        assert self.fitted, \"You should first fit your array\"\n",
    "        if i < self.len:\n",
    "            return self.array[i]\n",
    "        else:\n",
    "            raise IndexError\n",
    "        \n",
    "    def fit(self, dtype = np.float32):\n",
    "        self.lengths = [len(pd.read_csv(file, low_memory = True)) for file in self.__getcsvlist__()]\n",
    "        self.cum_len = np.cumsum([0]+self.lengths)\n",
    "        self.len = sum(self.lengths)\n",
    "        try:\n",
    "            ## We save the concatted arrays\n",
    "            self.array = np.memmap(self.name, shape = (self.len,), dtype = dtype, mode = \"w+\")\n",
    "            ## We save the lengths of the arrays for future use\n",
    "            Lengths = np.memmap(\"lengths\" + self.name, shape = (len(self.lengths),), dtype = np.uint32, mode = \"w+\")\n",
    "        except Exception as exception:\n",
    "            raise exception\n",
    "        \n",
    "        ## below we place the concatted arrays --- \n",
    "        for index, file in enumerate(self.__getcsvlist__()):\n",
    "            l_index = self.cum_len[index]\n",
    "            h_index = self.cum_len[index+1]\n",
    "            \n",
    "            csv = pd.read_csv(file)\n",
    "            csv = self.__preprocess__(csv)\n",
    "            \n",
    "            self.array[l_index:h_index] = csv.to_numpy()\n",
    "        \n",
    "        ## lengths are saved here ##\n",
    "        Lengths[:] = self.lengths\n",
    "        \n",
    "        self.array.flush() ## we write everything to the disk!!!!\n",
    "        Lengths.flush() ## we write everything to the disk!!!!\n",
    "\n",
    "        self.fitted = True ## set fitted to true\n",
    "    \n",
    "    def convert_nparray(self):\n",
    "        self.array = np.array(self.array)\n",
    "        \n",
    "    def __getcsvlist__(self):\n",
    "        list_ = os.listdir()\n",
    "        csv = []\n",
    "        for file in list_:\n",
    "            if file.endswith(\".csv\"):\n",
    "                csv.append(file)\n",
    "        return csv\n",
    "    def __len__(self):\n",
    "        return self.len\n",
    "    \n",
    "    @classmethod\n",
    "    def from_file(cls, name = \"array.dat\"):\n",
    "        cls_ = cls()\n",
    "        cls_.array = np.memmap(name, mode =\"r\", dtype = np.float32)\n",
    "        cls_.name = name\n",
    "        cls_.lengths = np.memmap(\"lengths\" + name, mode = \"r\", dtype = np.uint32)\n",
    "        cls_.len = len(cls_.array)\n",
    "        cls_.fitted = True\n",
    "        return cls_\n",
    "        \n",
    "    def __preprocess__(self, frame):\n",
    "        return frame.iloc[:, -1]"
   ]
  },
  {
   "cell_type": "code",
   "execution_count": 82,
   "id": "a5aa3781",
   "metadata": {},
   "outputs": [],
   "source": [
    "L = memmap_array()\n",
    "L.fit(dtype = np.float32)   "
   ]
  },
  {
   "cell_type": "code",
   "execution_count": 83,
   "id": "861a6e74",
   "metadata": {},
   "outputs": [
    {
     "data": {
      "text/plain": [
       "(7000000,)"
      ]
     },
     "execution_count": 83,
     "metadata": {},
     "output_type": "execute_result"
    }
   ],
   "source": [
    "L.array.shape"
   ]
  },
  {
   "cell_type": "code",
   "execution_count": 103,
   "id": "7ff3d44a",
   "metadata": {},
   "outputs": [],
   "source": [
    "m = memmap_array().from_file()"
   ]
  },
  {
   "cell_type": "code",
   "execution_count": 109,
   "id": "76455a2b",
   "metadata": {},
   "outputs": [
    {
     "data": {
      "text/plain": [
       "4.0"
      ]
     },
     "execution_count": 109,
     "metadata": {},
     "output_type": "execute_result"
    }
   ],
   "source": [
    "m[len(m)-1]"
   ]
  }
 ],
 "metadata": {
  "kernelspec": {
   "display_name": "Python 3 (ipykernel)",
   "language": "python",
   "name": "python3"
  },
  "language_info": {
   "codemirror_mode": {
    "name": "ipython",
    "version": 3
   },
   "file_extension": ".py",
   "mimetype": "text/x-python",
   "name": "python",
   "nbconvert_exporter": "python",
   "pygments_lexer": "ipython3",
   "version": "3.9.13"
  }
 },
 "nbformat": 4,
 "nbformat_minor": 5
}
