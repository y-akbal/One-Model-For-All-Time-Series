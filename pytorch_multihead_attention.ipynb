{
 "cells": [
  {
   "cell_type": "code",
   "execution_count": 2,
   "id": "6a8c11f3",
   "metadata": {},
   "outputs": [],
   "source": [
    "import torch\n",
    "import torch.nn as nn\n",
    "import torch.nn.functional as F\n",
    "import numpy as np"
   ]
  },
  {
   "cell_type": "code",
   "execution_count": 3,
   "id": "1c824647",
   "metadata": {},
   "outputs": [],
   "source": [
    "x = torch.randn(10, 128, 512)"
   ]
  },
  {
   "cell_type": "code",
   "execution_count": 4,
   "id": "c7d83be2",
   "metadata": {},
   "outputs": [],
   "source": [
    "Q = torch.randn(128, 128)/(128)**0.5\n",
    "W = torch.randn(128, 128)/(128)**0.5\n",
    "E = torch.randn(128, 128)/(128)**0.5\n",
    "## the above guys are attention guys"
   ]
  },
  {
   "cell_type": "code",
   "execution_count": 5,
   "id": "cf52528f",
   "metadata": {},
   "outputs": [],
   "source": [
    "x_q = (Q @ x)\n",
    "x_w = (W @ x)\n",
    "x_e = (E @ x)"
   ]
  },
  {
   "cell_type": "code",
   "execution_count": 6,
   "id": "2569d44f",
   "metadata": {},
   "outputs": [
    {
     "data": {
      "text/plain": [
       "torch.Size([10, 128, 512])"
      ]
     },
     "execution_count": 6,
     "metadata": {},
     "output_type": "execute_result"
    }
   ],
   "source": [
    "x_q.shape"
   ]
  },
  {
   "cell_type": "code",
   "execution_count": 7,
   "id": "1df223d3",
   "metadata": {},
   "outputs": [],
   "source": [
    "x_q = x_q.view(-1, 4, 32, 512)\n",
    "x_w = x_w.view(-1, 4, 32, 512)\n",
    "x_e = x_e.view(-1, 4, 32, 512)"
   ]
  },
  {
   "cell_type": "code",
   "execution_count": 8,
   "id": "98a5c21b",
   "metadata": {},
   "outputs": [],
   "source": [
    "(x_e @ nn.Softmax(-2)((x_q.transpose(-2, -1) @ x_w))).view(-1, 128, 512);"
   ]
  },
  {
   "cell_type": "code",
   "execution_count": 15,
   "id": "53b27bf3",
   "metadata": {},
   "outputs": [],
   "source": [
    "class multi_head_attention(nn.Module): \n",
    "    def __init__(self, embedding_dim = 128, heads = 4, lag = 512, dropout = 0.2, causal = True):\n",
    "        super().__init__()\n",
    "        \n",
    "        assert (embedding_dim/heads).is_integer(), f\"embedding_dim/heads should be integer while yours {embedding_dim/heads} \"\n",
    "        \n",
    "        self.embedding_dim = embedding_dim\n",
    "        self.heads = heads \n",
    "        self.causal = causal\n",
    "        self.W = lag\n",
    "        ### Attention Part ###\n",
    "        ### Frist Dropout layers\n",
    "        self.dropout_Q = nn.Dropout(p = dropout)\n",
    "        self.dropout_K = nn.Dropout(p = dropout)\n",
    "        self.dropout_V = nn.Dropout(p = dropout)\n",
    "        ### Weights ###\n",
    "        self.L_Q = nn.Parameter(torch.randn(embedding_dim, embedding_dim)*(embedding_dim)**(-0.5))\n",
    "        self.L_K = nn.Parameter(torch.randn(embedding_dim, embedding_dim)*(embedding_dim)**(-0.5))\n",
    "        self.L_V = nn.Parameter(torch.randn(embedding_dim, embedding_dim)*(embedding_dim)**(-0.5))\n",
    "        ### --- End of weights --- ###\n",
    "        if self.causal:\n",
    "            self.causal_factor = nn.Parameter(torch.tril(-torch.inf*torch.ones(self.W,self.W), diagonal = -1))\n",
    "            ## No gradient is required in the above layer....\n",
    "            self.causal_factor.requires_grad = False\n",
    "    \n",
    "    def forward(self, x): #BxHxL -> BxHxL\n",
    "        K, Q, V = x[0], x[1], x[2]\n",
    "        K = self.dropout_K(self.L_K @ K)\n",
    "        Q = self.dropout_Q(self.L_Q @ Q)\n",
    "        V = self.dropout_V(self.L_V @ V)\n",
    "        return K, Q, V"
   ]
  },
  {
   "cell_type": "code",
   "execution_count": 26,
   "id": "1be53c67",
   "metadata": {},
   "outputs": [],
   "source": [
    "x = multi_head_attention(128, heads = 4)"
   ]
  }
 ],
 "metadata": {
  "kernelspec": {
   "display_name": "Python 3 (ipykernel)",
   "language": "python",
   "name": "python3"
  },
  "language_info": {
   "codemirror_mode": {
    "name": "ipython",
    "version": 3
   },
   "file_extension": ".py",
   "mimetype": "text/x-python",
   "name": "python",
   "nbconvert_exporter": "python",
   "pygments_lexer": "ipython3",
   "version": "3.9.13"
  }
 },
 "nbformat": 4,
 "nbformat_minor": 5
}
