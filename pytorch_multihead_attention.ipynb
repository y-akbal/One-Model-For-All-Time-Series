{
 "cells": [
  {
   "cell_type": "code",
   "execution_count": 2,
   "id": "6a8c11f3",
   "metadata": {},
   "outputs": [],
   "source": [
    "import torch\n",
    "import torch.nn as nn\n",
    "import torch.nn.functional as F\n",
    "import numpy as np"
   ]
  },
  {
   "cell_type": "code",
   "execution_count": 3,
   "id": "1c824647",
   "metadata": {},
   "outputs": [],
   "source": [
    "x = torch.randn(10, 128, 512)"
   ]
  },
  {
   "cell_type": "code",
   "execution_count": 4,
   "id": "c7d83be2",
   "metadata": {},
   "outputs": [],
   "source": [
    "Q = torch.randn(128, 128)/(128)**0.5\n",
    "W = torch.randn(128, 128)/(128)**0.5\n",
    "E = torch.randn(128, 128)/(128)**0.5\n",
    "## the above guys are attention guys"
   ]
  },
  {
   "cell_type": "code",
   "execution_count": 5,
   "id": "cf52528f",
   "metadata": {},
   "outputs": [],
   "source": [
    "x_q = (Q @ x)\n",
    "x_w = (W @ x)\n",
    "x_e = (E @ x)"
   ]
  },
  {
   "cell_type": "code",
   "execution_count": 6,
   "id": "2569d44f",
   "metadata": {},
   "outputs": [
    {
     "data": {
      "text/plain": [
       "torch.Size([10, 128, 512])"
      ]
     },
     "execution_count": 6,
     "metadata": {},
     "output_type": "execute_result"
    }
   ],
   "source": [
    "x_q.shape"
   ]
  },
  {
   "cell_type": "code",
   "execution_count": 7,
   "id": "1df223d3",
   "metadata": {},
   "outputs": [],
   "source": [
    "x_q = x_q.view(-1, 4, 32, 512)\n",
    "x_w = x_w.view(-1, 4, 32, 512)\n",
    "x_e = x_e.view(-1, 4, 32, 512)"
   ]
  },
  {
   "cell_type": "code",
   "execution_count": 8,
   "id": "98a5c21b",
   "metadata": {},
   "outputs": [],
   "source": [
    "(x_e @ nn.Softmax(-2)((x_q.transpose(-2, -1) @ x_w))).view(-1, 128, 512);"
   ]
  },
  {
   "cell_type": "code",
   "execution_count": 123,
   "id": "53b27bf3",
   "metadata": {},
   "outputs": [],
   "source": [
    "class multi_head_attention(nn.Module): \n",
    "    def __init__(self, embedding_dim = 128, heads = 4, lag = 512, dropout = 0.2, causal = True):\n",
    "        super().__init__()\n",
    "        \n",
    "        assert (embedding_dim/heads).is_integer(), f\"embedding_dim/heads should be integer while yours {embedding_dim/heads} \"\n",
    "        \n",
    "        self.embedding_dim = embedding_dim\n",
    "        self.heads = heads \n",
    "        self.causal = causal\n",
    "        self.W = lag\n",
    "        ### Attention Part ###\n",
    "        ### Frist Dropout layers\n",
    "        self.dropout_Q = nn.Dropout(p = dropout)\n",
    "        self.dropout_K = nn.Dropout(p = dropout)\n",
    "        self.dropout_V = nn.Dropout(p = dropout)\n",
    "        ### Weights ###\n",
    "        self.L_Q = nn.Parameter(torch.randn(embedding_dim, embedding_dim)*(embedding_dim)**(-0.5))\n",
    "        self.L_K = nn.Parameter(torch.randn(embedding_dim, embedding_dim)*(embedding_dim)**(-0.5))\n",
    "        self.L_V = nn.Parameter(torch.randn(embedding_dim, embedding_dim)*(embedding_dim)**(-0.5))\n",
    "        #self.dense = Linear(embedding_dim, embedding_dim, bias = True)\n",
    "        ### --- End of weights --- ###\n",
    "        if self.causal:\n",
    "            self.causal_factor = nn.Parameter(torch.tril(-torch.inf*torch.ones(self.W,self.W), diagonal = -1))\n",
    "            ## No gradient is required in the above layer....\n",
    "            self.causal_factor.requires_grad = False\n",
    "    \n",
    "    def forward(self, x): #BxHxL -> BxHxL\n",
    "        K, Q, V = x[0], x[1], x[2]\n",
    "        K = self.dropout_K(self.L_K @ K)\n",
    "        Q = self.dropout_Q(self.L_Q @ Q)\n",
    "        V = self.dropout_V(self.L_V @ V)\n",
    "        K_v = K.view(-1, self.heads, int(self.embedding_dim/self.heads), self.W)\n",
    "        Q_v = Q.view(-1, self.heads, int(self.embedding_dim/self.heads), self.W)\n",
    "        V_v = V.view(-1, self.heads, int(self.embedding_dim/self.heads), self.W)\n",
    "        \n",
    "        \n",
    "        attention_scores = (Q_v.transpose(-2, -1) @ K_v)/self.embedding_dim**0.5\n",
    "        if self.causal:\n",
    "            attention_scores += self.causal_factor/self.embedding_dim**0.5\n",
    "                \n",
    "        scores = nn.Softmax(-2)(attention_scores)\n",
    "        \n",
    "        \n",
    "        return (V_v @ scores).view(-1, self.embedding_dim, self.W)"
   ]
  },
  {
   "cell_type": "code",
   "execution_count": 128,
   "id": "91715192",
   "metadata": {},
   "outputs": [
    {
     "data": {
      "text/plain": [
       "multi_head_attention(\n",
       "  (dropout_Q): Dropout(p=0.2, inplace=False)\n",
       "  (dropout_K): Dropout(p=0.2, inplace=False)\n",
       "  (dropout_V): Dropout(p=0.2, inplace=False)\n",
       "  (dense): Linear(in_features=8, out_features=8, bias=True)\n",
       ")"
      ]
     },
     "execution_count": 128,
     "metadata": {},
     "output_type": "execute_result"
    }
   ],
   "source": [
    "x = multi_head_attention(8, heads = 2, lag = 8, causal = False)\n",
    "x.train()"
   ]
  },
  {
   "cell_type": "code",
   "execution_count": 129,
   "id": "cb40e53e",
   "metadata": {},
   "outputs": [
    {
     "data": {
      "text/plain": [
       "multi_head_attention(\n",
       "  (dropout_Q): Dropout(p=0.2, inplace=False)\n",
       "  (dropout_K): Dropout(p=0.2, inplace=False)\n",
       "  (dropout_V): Dropout(p=0.2, inplace=False)\n",
       "  (dense): Linear(in_features=8, out_features=8, bias=True)\n",
       ")"
      ]
     },
     "execution_count": 129,
     "metadata": {},
     "output_type": "execute_result"
    }
   ],
   "source": [
    "x.to(\"cuda\")"
   ]
  },
  {
   "cell_type": "code",
   "execution_count": 134,
   "id": "63ae088d",
   "metadata": {},
   "outputs": [
    {
     "data": {
      "text/plain": [
       "tensor([[[ 0.1765,  0.2635,  0.2213,  0.1936,  0.2184,  0.1087,  0.2295,\n",
       "           0.1948],\n",
       "         [-0.3597, -0.5333, -0.4265, -0.3297, -0.4097, -0.2847, -0.5016,\n",
       "          -0.3772],\n",
       "         [-0.3461, -0.2853, -0.1281, -0.0263, -0.1438,  0.2598, -0.2839,\n",
       "          -0.2844],\n",
       "         [-0.5749, -0.3938, -0.2322, -0.1116, -0.2060,  0.4003, -0.4749,\n",
       "          -0.4386],\n",
       "         [ 0.4892,  0.5546,  0.2800,  0.5147,  0.3258,  0.2714, -0.0199,\n",
       "           0.3953],\n",
       "         [ 0.2937,  0.3054, -0.1043,  0.4849,  0.2012, -0.0890, -0.6247,\n",
       "           0.1998],\n",
       "         [ 0.0181,  0.0333,  0.2761,  0.0595, -0.1567,  0.0548,  0.2570,\n",
       "          -0.1348],\n",
       "         [ 0.0167, -0.0581, -0.0066,  0.2816,  0.0370, -0.0778, -0.1228,\n",
       "          -0.0498]]], device='cuda:0', grad_fn=<ViewBackward0>)"
      ]
     },
     "execution_count": 134,
     "metadata": {},
     "output_type": "execute_result"
    }
   ],
   "source": [
    "t = torch.randn(1,8,8)\n",
    "t = t.to(\"cuda\")\n",
    "x([t,t,t])"
   ]
  }
 ],
 "metadata": {
  "kernelspec": {
   "display_name": "Python 3 (ipykernel)",
   "language": "python",
   "name": "python3"
  },
  "language_info": {
   "codemirror_mode": {
    "name": "ipython",
    "version": 3
   },
   "file_extension": ".py",
   "mimetype": "text/x-python",
   "name": "python",
   "nbconvert_exporter": "python",
   "pygments_lexer": "ipython3",
   "version": "3.9.13"
  }
 },
 "nbformat": 4,
 "nbformat_minor": 5
}
