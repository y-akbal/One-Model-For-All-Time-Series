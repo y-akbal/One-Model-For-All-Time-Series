{
 "cells": [
  {
   "cell_type": "code",
   "execution_count": 7,
   "id": "bd8fff1a",
   "metadata": {},
   "outputs": [
    {
     "data": {
      "text/html": [
       "<div>\n",
       "<style scoped>\n",
       "    .dataframe tbody tr th:only-of-type {\n",
       "        vertical-align: middle;\n",
       "    }\n",
       "\n",
       "    .dataframe tbody tr th {\n",
       "        vertical-align: top;\n",
       "    }\n",
       "\n",
       "    .dataframe thead th {\n",
       "        text-align: right;\n",
       "    }\n",
       "</style>\n",
       "<table border=\"1\" class=\"dataframe\">\n",
       "  <thead>\n",
       "    <tr style=\"text-align: right;\">\n",
       "      <th></th>\n",
       "      <th>Unnamed: 0</th>\n",
       "      <th>0</th>\n",
       "      <th>1</th>\n",
       "      <th>name</th>\n",
       "    </tr>\n",
       "  </thead>\n",
       "  <tbody>\n",
       "    <tr>\n",
       "      <th>0</th>\n",
       "      <td>0</td>\n",
       "      <td>-0.647427</td>\n",
       "      <td>-0.725656</td>\n",
       "      <td>preprocessed_data_test/GercekZamanliUretim-KUY...</td>\n",
       "    </tr>\n",
       "    <tr>\n",
       "      <th>1</th>\n",
       "      <td>1</td>\n",
       "      <td>-0.662994</td>\n",
       "      <td>-0.557687</td>\n",
       "      <td>preprocessed_data_test/GercekZamanliUretim-KUY...</td>\n",
       "    </tr>\n",
       "    <tr>\n",
       "      <th>2</th>\n",
       "      <td>2</td>\n",
       "      <td>-0.647427</td>\n",
       "      <td>-0.647531</td>\n",
       "      <td>preprocessed_data_test/GercekZamanliUretim-KUY...</td>\n",
       "    </tr>\n",
       "    <tr>\n",
       "      <th>3</th>\n",
       "      <td>3</td>\n",
       "      <td>-0.725263</td>\n",
       "      <td>-0.608468</td>\n",
       "      <td>preprocessed_data_test/GercekZamanliUretim-KUY...</td>\n",
       "    </tr>\n",
       "    <tr>\n",
       "      <th>4</th>\n",
       "      <td>4</td>\n",
       "      <td>-0.649651</td>\n",
       "      <td>-0.764718</td>\n",
       "      <td>preprocessed_data_test/GercekZamanliUretim-KUY...</td>\n",
       "    </tr>\n",
       "    <tr>\n",
       "      <th>...</th>\n",
       "      <td>...</td>\n",
       "      <td>...</td>\n",
       "      <td>...</td>\n",
       "      <td>...</td>\n",
       "    </tr>\n",
       "    <tr>\n",
       "      <th>1836667</th>\n",
       "      <td>1836667</td>\n",
       "      <td>-0.154789</td>\n",
       "      <td>-1.030343</td>\n",
       "      <td>preprocessed_data_test/GercekZamanliUretim-ERT...</td>\n",
       "    </tr>\n",
       "    <tr>\n",
       "      <th>1836668</th>\n",
       "      <td>1836668</td>\n",
       "      <td>-0.644242</td>\n",
       "      <td>-0.022042</td>\n",
       "      <td>preprocessed_data_test/GercekZamanliUretim-ERT...</td>\n",
       "    </tr>\n",
       "    <tr>\n",
       "      <th>1836669</th>\n",
       "      <td>1836669</td>\n",
       "      <td>-0.928125</td>\n",
       "      <td>-0.499093</td>\n",
       "      <td>preprocessed_data_test/GercekZamanliUretim-ERT...</td>\n",
       "    </tr>\n",
       "    <tr>\n",
       "      <th>1836670</th>\n",
       "      <td>1836670</td>\n",
       "      <td>-0.849813</td>\n",
       "      <td>-0.784249</td>\n",
       "      <td>preprocessed_data_test/GercekZamanliUretim-ERT...</td>\n",
       "    </tr>\n",
       "    <tr>\n",
       "      <th>1836671</th>\n",
       "      <td>1836671</td>\n",
       "      <td>-1.133696</td>\n",
       "      <td>-0.694406</td>\n",
       "      <td>preprocessed_data_test/GercekZamanliUretim-ERT...</td>\n",
       "    </tr>\n",
       "  </tbody>\n",
       "</table>\n",
       "<p>1836672 rows × 4 columns</p>\n",
       "</div>"
      ],
      "text/plain": [
       "         Unnamed: 0         0         1  \\\n",
       "0                 0 -0.647427 -0.725656   \n",
       "1                 1 -0.662994 -0.557687   \n",
       "2                 2 -0.647427 -0.647531   \n",
       "3                 3 -0.725263 -0.608468   \n",
       "4                 4 -0.649651 -0.764718   \n",
       "...             ...       ...       ...   \n",
       "1836667     1836667 -0.154789 -1.030343   \n",
       "1836668     1836668 -0.644242 -0.022042   \n",
       "1836669     1836669 -0.928125 -0.499093   \n",
       "1836670     1836670 -0.849813 -0.784249   \n",
       "1836671     1836671 -1.133696 -0.694406   \n",
       "\n",
       "                                                      name  \n",
       "0        preprocessed_data_test/GercekZamanliUretim-KUY...  \n",
       "1        preprocessed_data_test/GercekZamanliUretim-KUY...  \n",
       "2        preprocessed_data_test/GercekZamanliUretim-KUY...  \n",
       "3        preprocessed_data_test/GercekZamanliUretim-KUY...  \n",
       "4        preprocessed_data_test/GercekZamanliUretim-KUY...  \n",
       "...                                                    ...  \n",
       "1836667  preprocessed_data_test/GercekZamanliUretim-ERT...  \n",
       "1836668  preprocessed_data_test/GercekZamanliUretim-ERT...  \n",
       "1836669  preprocessed_data_test/GercekZamanliUretim-ERT...  \n",
       "1836670  preprocessed_data_test/GercekZamanliUretim-ERT...  \n",
       "1836671  preprocessed_data_test/GercekZamanliUretim-ERT...  \n",
       "\n",
       "[1836672 rows x 4 columns]"
      ]
     },
     "execution_count": 7,
     "metadata": {},
     "output_type": "execute_result"
    }
   ],
   "source": [
    "import pandas as pd\n",
    "df = pd.read_csv(\"EMA_model_15_768_8_80emaFalsereport.csv\")    \n",
    "df"
   ]
  },
  {
   "cell_type": "code",
   "execution_count": 8,
   "id": "1b57c40e",
   "metadata": {},
   "outputs": [],
   "source": [
    "from matplotlib import pyplot as plt\n",
    "from sklearn.metrics import r2_score, mean_squared_error\n",
    "from tqdm import tqdm\n",
    "import numpy as np"
   ]
  },
  {
   "cell_type": "code",
   "execution_count": 9,
   "id": "0fb1a18f",
   "metadata": {},
   "outputs": [],
   "source": [
    "r2 = []\n",
    "mse = []\n",
    "names = []\n",
    "names_ = df[\"name\"].unique()"
   ]
  },
  {
   "cell_type": "code",
   "execution_count": 10,
   "id": "b8b59aa2",
   "metadata": {},
   "outputs": [],
   "source": [
    "for name in names_:\n",
    "    y_true = df.loc[df[\"name\"] == name, :].iloc[:, 1]\n",
    "    y_pred = df.loc[df[\"name\"] == name, :].iloc[:, 2]\n",
    "    r2.append(r2_score(y_true, y_pred))   \n",
    "    mse.append(mean_squared_error(y_true, y_pred))\n",
    "    names.append(name)"
   ]
  },
  {
   "cell_type": "code",
   "execution_count": 123,
   "id": "6cb92ac4",
   "metadata": {},
   "outputs": [
    {
     "data": {
      "text/plain": [
       "0.9073006151423094"
      ]
     },
     "execution_count": 123,
     "metadata": {},
     "output_type": "execute_result"
    }
   ],
   "source": [
    "r2 = np.array(r2)\n",
    "r2.mean()"
   ]
  },
  {
   "cell_type": "code",
   "execution_count": 12,
   "id": "116d0888",
   "metadata": {},
   "outputs": [
    {
     "data": {
      "text/plain": [
       "0.9011667534368496"
      ]
     },
     "execution_count": 12,
     "metadata": {},
     "output_type": "execute_result"
    }
   ],
   "source": [
    "r2 = np.array(r2)\n",
    "r2.mean()"
   ]
  },
  {
   "cell_type": "code",
   "execution_count": 118,
   "id": "66cfe230",
   "metadata": {},
   "outputs": [
    {
     "data": {
      "image/png": "[encoded data removed]",
      "text/plain": [
       "<Figure size 640x480 with 1 Axes>"
      ]
     },
     "metadata": {},
     "output_type": "display_data"
    }
   ],
   "source": [
    "mse = np.array(mse)\n",
    "plt.hist(mse , bins = 100);"
   ]
  },
  {
   "cell_type": "code",
   "execution_count": 116,
   "id": "1d0e642c",
   "metadata": {},
   "outputs": [
    {
     "data": {
      "image/png": "[encoded data removed]",
      "text/plain": [
       "<Figure size 640x480 with 1 Axes>"
      ]
     },
     "metadata": {},
     "output_type": "display_data"
    }
   ],
   "source": [
    "plt.hist((r2), bins = 100);  ## 0.907"
   ]
  }
 ],
 "metadata": {
  "kernelspec": {
   "display_name": "Python 3 (ipykernel)",
   "language": "python",
   "name": "python3"
  },
  "language_info": {
   "codemirror_mode": {
    "name": "ipython",
    "version": 3
   },
   "file_extension": ".py",
   "mimetype": "text/x-python",
   "name": "python",
   "nbconvert_exporter": "python",
   "pygments_lexer": "ipython3",
   "version": "3.1.0"
  }
 },
 "nbformat": 4,
 "nbformat_minor": 5
}
