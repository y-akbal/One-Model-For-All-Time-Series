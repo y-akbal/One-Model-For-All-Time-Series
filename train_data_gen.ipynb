{
 "cells": [
  {
   "cell_type": "code",
   "execution_count": 31,
   "id": "f675f87b",
   "metadata": {},
   "outputs": [],
   "source": [
    "import torch\n",
    "import torch.nn as nn\n",
    "from torch import functional as F\n",
    "from torch.utils.data import IterableDataset\n",
    "from torch.utils.data import DataLoader\n",
    "import numpy as np\n",
    "import pandas as pd"
   ]
  },
  {
   "cell_type": "code",
   "execution_count": 119,
   "id": "252ce090",
   "metadata": {},
   "outputs": [],
   "source": [
    "class data_loader_(IterableDataset):\n",
    "    def __init__(self, list_csv:list, chunk_size:int = 3, lags = 512, **kwargs):\n",
    "        super(data_loader_).__init__(**kwargs)\n",
    "        \"\"\"\n",
    "        list_csv : list of csv file \n",
    "        chunk_size : chunk_size many csv file will open up into memory and converted into tensors\n",
    "        \"\"\"\n",
    "        self.csv_files = list_csv ### names of csv files\n",
    "        self.chunk_size = chunk_size\n",
    "        self.lags = lags \n",
    "        ### -- technical stuff -- ###\n",
    "        self.num_csv = len(self.csv_files)\n",
    "        self.csv_index = [i for i in range(self.num_csv)]\n",
    "        ### --- indexing --- ###\n",
    "        \n",
    "    def __iter__(self):\n",
    "        ### shuffle the things before getting started ###\n",
    "        np.random.shuffle(self.csv_index)\n",
    "        for indice in range(int((self.num_csv/self.chunk_size))+1):\n",
    "            indices = self.csv_index[indice*self.chunk_size: self.chunk_size*(indice+1)]\n",
    "            csv_files_ = [pd.read_csv(self.csv_files[i]) for i in indices]\n",
    "            lengths = [len(file) for file in csv_files]\n",
    "            length_indices = [len(file) for file in csv_files]\n",
    "            \n",
    "            #\n",
    "            # [[1,2,3,4,5,6], 1]\n",
    "            # [[1,2,3,4,5,6,7], 2]\n",
    "            # [[1,2,3,4,5,6,7,8,9,10], 3]\n",
    "            # l_1 = l_1\n",
    "            # l_2 = l_1 + l_2\n",
    "            # l_3 = l_1 + l_2 + l_3\n",
    "            \n",
    "            if len(indices) > 0:\n",
    "                yield csv_files_, indices\n",
    "    #We may cythonize this part for accelarate\n",
    "    def __getindices__(self, K:list, L:list)->tuple:\n",
    "        assert len(K) == len(L)\n",
    "        K_ = []\n",
    "        L_ = []\n",
    "        N = len(K)\n",
    "        for i in range(N-length):\n",
    "            if L[i] == L[i+length]:\n",
    "                K_.append(i)\n",
    "                L_.append(L[i])\n",
    "        return K_, L_\n",
    "        \n",
    "        "
   ]
  }
 ],
 "metadata": {
  "kernelspec": {
   "display_name": "Python 3 (ipykernel)",
   "language": "python",
   "name": "python3"
  },
  "language_info": {
   "codemirror_mode": {
    "name": "ipython",
    "version": 3
   },
   "file_extension": ".py",
   "mimetype": "text/x-python",
   "name": "python",
   "nbconvert_exporter": "python",
   "pygments_lexer": "ipython3",
   "version": "3.9.13"
  }
 },
 "nbformat": 4,
 "nbformat_minor": 5
}
