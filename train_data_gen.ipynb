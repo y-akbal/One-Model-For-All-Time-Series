{
 "cells": [
  {
   "cell_type": "code",
   "execution_count": 4,
   "id": "f675f87b",
   "metadata": {},
   "outputs": [],
   "source": [
    "import torch\n",
    "import torch.nn as nn\n",
    "from torch import functional as F\n",
    "from torch.utils.data import IterableDataset\n",
    "from torch.utils.data import DataLoader\n",
    "import numpy as np\n",
    "import pandas as pd\n",
    "import os\n",
    "list_ = os.listdir()"
   ]
  },
  {
   "cell_type": "code",
   "execution_count": 8,
   "id": "32af9d1b",
   "metadata": {},
   "outputs": [],
   "source": [
    "def return_csv_files():\n",
    "    L = []\n",
    "    for file in os.listdir():\n",
    "        if file.endswith(\".csv\"):\n",
    "            L.append(file)\n",
    "    return L"
   ]
  },
  {
   "cell_type": "code",
   "execution_count": 9,
   "id": "bc410639",
   "metadata": {},
   "outputs": [],
   "source": [
    "files = return_csv_files()"
   ]
  },
  {
   "cell_type": "code",
   "execution_count": 64,
   "id": "252ce090",
   "metadata": {},
   "outputs": [],
   "source": [
    "class data_loader_(IterableDataset):\n",
    "    def __init__(self, list_csv:list, chunk_size:int = 3, lags = 512, **kwargs):\n",
    "        super(data_loader_).__init__(**kwargs)\n",
    "        \"\"\"\n",
    "        list_csv : list of csv file \n",
    "        chunk_size : chunk_size many csv file will open up into memory and converted into tensors\n",
    "        \"\"\"\n",
    "        self.csv_files = list_csv ### names of csv files\n",
    "        self.csv_index = [i for i, _ in enumerate(self.csv_files)] ### enumeration of related time series \n",
    "        self.num_csv = len(self.csv_index)\n",
    "        self.chunk_size = chunk_size\n",
    "        self.lags = lags \n",
    "        ### -- technical stuff -- ###\n",
    "        \n",
    "        \n",
    "        ### --- indexing --- ###\n",
    "        \n",
    "    def __iter__(self):\n",
    "        ### shuffle the things before getting started ###\n",
    "        np.random.shuffle(self.csv_index)\n",
    "        for indice in range(int((self.num_csv/self.chunk_size))+1):\n",
    "            indices = self.csv_index[indice*self.chunk_size: self.chunk_size*(indice+1)]\n",
    "            pd_series = [pd.read_csv(self.csv_files[i]) for i in indices]\n",
    "            classes = [self.csv_index[i] for i in indices]\n",
    "            \n",
    "            ### --- ###\n",
    "            # csv_enumeration \n",
    "            # time_series_lengths\n",
    "            # \n",
    "            ### --- ###\n",
    "            if len(indices) > 0:\n",
    "                yield self.__getlength__(pd_series, classes)\n",
    "                \n",
    "    #We may cythonize this part for speeding up the things -->\n",
    "    def __getindices__(self, K:list, L:list)->tuple:\n",
    "        assert len(K) == len(L)\n",
    "        K_ = []\n",
    "        L_ = []\n",
    "        N = len(K)\n",
    "        for i in range(N-length):\n",
    "            if L[i] == L[i+length]:\n",
    "                K_.append(i)\n",
    "                L_.append(L[i])\n",
    "        return K_, L_\n",
    "    def __getlength__(self, data:list, classes:list):\n",
    "        \"\"\"\n",
    "        data is a list of data types: np list, pd series\n",
    "        \"\"\"\n",
    "        length = []\n",
    "        classes_ = []\n",
    "        k = 0\n",
    "        for enum, data  in enumerate(data):\n",
    "            for j in data:\n",
    "                length.append(k)\n",
    "                classes_.append(classes[enum])\n",
    "                k += 1\n",
    "        return length, classes_"
   ]
  },
  {
   "cell_type": "code",
   "execution_count": 66,
   "id": "1281f300",
   "metadata": {},
   "outputs": [],
   "source": [
    "loader = data_loader_(files,  25)"
   ]
  },
  {
   "cell_type": "code",
   "execution_count": 68,
   "id": "4fc22732",
   "metadata": {},
   "outputs": [
    {
     "name": "stdout",
     "output_type": "stream",
     "text": [
      "([0, 1, 2, 3, 4, 5, 6, 7, 8, 9, 10, 11, 12, 13, 14, 15, 16, 17, 18, 19, 20, 21, 22, 23, 24, 25, 26, 27, 28, 29, 30, 31, 32, 33, 34, 35, 36, 37, 38, 39, 40, 41, 42, 43, 44, 45, 46, 47, 48, 49, 50, 51, 52, 53, 54, 55, 56, 57, 58, 59, 60, 61, 62, 63, 64, 65, 66, 67, 68, 69, 70, 71, 72, 73, 74, 75, 76, 77, 78, 79, 80, 81, 82, 83, 84, 85, 86, 87, 88, 89, 90, 91, 92, 93, 94, 95, 96, 97, 98, 99], [54, 54, 54, 54, 233, 233, 233, 233, 129, 129, 129, 129, 210, 210, 210, 210, 136, 136, 136, 136, 176, 176, 176, 176, 78, 78, 78, 78, 211, 211, 211, 211, 254, 254, 254, 254, 20, 20, 20, 20, 205, 205, 205, 205, 249, 249, 249, 249, 72, 72, 72, 72, 151, 151, 151, 151, 27, 27, 27, 27, 41, 41, 41, 41, 59, 59, 59, 59, 98, 98, 98, 98, 36, 36, 36, 36, 74, 74, 74, 74, 250, 250, 250, 250, 142, 142, 142, 142, 13, 13, 13, 13, 164, 164, 164, 164, 179, 179, 179, 179])\n"
     ]
    }
   ],
   "source": [
    "for i in loader:\n",
    "    print(i)\n",
    "    break"
   ]
  },
  {
   "cell_type": "code",
   "execution_count": 44,
   "id": "b0987c39",
   "metadata": {},
   "outputs": [],
   "source": [
    "a = [i for i in range(100)]\n",
    "b = [i % 4 for i in range(100)]\n",
    "b.sort()\n",
    "length = 10"
   ]
  },
  {
   "cell_type": "code",
   "execution_count": 52,
   "id": "c7228daa",
   "metadata": {},
   "outputs": [],
   "source": [
    "T = [[i for i in range(15)] for j in range(3)]"
   ]
  },
  {
   "cell_type": "code",
   "execution_count": 46,
   "id": "a1779f1f",
   "metadata": {},
   "outputs": [
    {
     "data": {
      "text/plain": [
       "[[0, 1, 2, 3, 4, 5, 6, 7, 8, 9],\n",
       " [0, 1, 2, 3, 4, 5, 6, 7, 8, 9],\n",
       " [0, 1, 2, 3, 4, 5, 6, 7, 8, 9]]"
      ]
     },
     "execution_count": 46,
     "metadata": {},
     "output_type": "execute_result"
    }
   ],
   "source": [
    "T"
   ]
  },
  {
   "cell_type": "code",
   "execution_count": 53,
   "id": "e0e5e6cb",
   "metadata": {},
   "outputs": [
    {
     "data": {
      "text/plain": [
       "([0,\n",
       "  1,\n",
       "  2,\n",
       "  3,\n",
       "  4,\n",
       "  5,\n",
       "  6,\n",
       "  7,\n",
       "  8,\n",
       "  9,\n",
       "  10,\n",
       "  11,\n",
       "  12,\n",
       "  13,\n",
       "  14,\n",
       "  15,\n",
       "  16,\n",
       "  17,\n",
       "  18,\n",
       "  19,\n",
       "  20,\n",
       "  21,\n",
       "  22,\n",
       "  23,\n",
       "  24,\n",
       "  25,\n",
       "  26,\n",
       "  27,\n",
       "  28,\n",
       "  29,\n",
       "  30,\n",
       "  31,\n",
       "  32,\n",
       "  33,\n",
       "  34,\n",
       "  35,\n",
       "  36,\n",
       "  37,\n",
       "  38,\n",
       "  39,\n",
       "  40,\n",
       "  41,\n",
       "  42,\n",
       "  43,\n",
       "  44],\n",
       " [0,\n",
       "  0,\n",
       "  0,\n",
       "  0,\n",
       "  0,\n",
       "  0,\n",
       "  0,\n",
       "  0,\n",
       "  0,\n",
       "  0,\n",
       "  0,\n",
       "  0,\n",
       "  0,\n",
       "  0,\n",
       "  0,\n",
       "  1,\n",
       "  1,\n",
       "  1,\n",
       "  1,\n",
       "  1,\n",
       "  1,\n",
       "  1,\n",
       "  1,\n",
       "  1,\n",
       "  1,\n",
       "  1,\n",
       "  1,\n",
       "  1,\n",
       "  1,\n",
       "  1,\n",
       "  2,\n",
       "  2,\n",
       "  2,\n",
       "  2,\n",
       "  2,\n",
       "  2,\n",
       "  2,\n",
       "  2,\n",
       "  2,\n",
       "  2,\n",
       "  2,\n",
       "  2,\n",
       "  2,\n",
       "  2,\n",
       "  2])"
      ]
     },
     "execution_count": 53,
     "metadata": {},
     "output_type": "execute_result"
    }
   ],
   "source": [
    "loader.__getlength__(T)"
   ]
  }
 ],
 "metadata": {
  "kernelspec": {
   "display_name": "Python 3 (ipykernel)",
   "language": "python",
   "name": "python3"
  },
  "language_info": {
   "codemirror_mode": {
    "name": "ipython",
    "version": 3
   },
   "file_extension": ".py",
   "mimetype": "text/x-python",
   "name": "python",
   "nbconvert_exporter": "python",
   "pygments_lexer": "ipython3",
   "version": "3.9.13"
  }
 },
 "nbformat": 4,
 "nbformat_minor": 5
}
