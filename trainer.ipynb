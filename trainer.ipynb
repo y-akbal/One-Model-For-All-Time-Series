{
 "cells": [
  {
   "cell_type": "code",
   "execution_count": 18,
   "id": "d01b2214",
   "metadata": {},
   "outputs": [],
   "source": [
    "import torch\n",
    "import torch.nn as nn\n",
    "from torch import functional as F\n",
    "from torch.utils.data import IterableDataset\n",
    "from torch.utils.data import DataLoader\n",
    "import numpy as np"
   ]
  },
  {
   "cell_type": "code",
   "execution_count": 209,
   "id": "982419fc",
   "metadata": {},
   "outputs": [],
   "source": [
    "class data_loader_(IterableDataset):\n",
    "    def __init__(self, list_csv:list, chunk_size:int = 3, lags = 512, **kwargs):\n",
    "        super(data_loader_).__init__(**kwargs)\n",
    "        \"\"\"\n",
    "        list_csv : list of csv file \n",
    "        chunk_size : chunk_size many csv file will open up into memory and converted into tensors\n",
    "        \"\"\"\n",
    "        self.csv_files = np.array(list_csv)\n",
    "        self.chunk_size = chunk_size\n",
    "        self.lags = lags\n",
    "        ### -- technical stuff -- ###\n",
    "        self.num_csv = len(self.csv_files)\n",
    "        self.csv_index = [i for i in range(self.num_csv)]\n",
    "        ### --- indexing --- ###\n",
    "        \n",
    "    def __iter__(self):\n",
    "        ### shuffle the things before getting started ###\n",
    "        np.random.shuffle(self.csv_index)\n",
    "        for indice in range(int((self.num_csv/self.chunk_size))+1):\n",
    "            indices = self.csv_index[indice*self.chunk_size: self.chunk_size*(indice+1)]\n",
    "            csv_files = self.csv_files[indices]\n",
    "            # csv_files_ = [pd.read_csv(csv_file) for csv_file in csv_files]\n",
    "            # csv_lengths = [len(df)-self.lags-1 for df in csv_files_] ## this includes the sliding window horizon\n",
    "            # enumerate the involce time series\n",
    "            # [[1,2,3,4,5,6], 1]\n",
    "            # [[1,2,3,4,5,6,7], 2]\n",
    "            # [[1,2,3,4,5,6,7,8,9,10], 3]\n",
    "            # l_1 = l_1\n",
    "            # l_2 = l_1 + l_2\n",
    "            # l_3 = l_1 + l_2 + l_3\n",
    "            \n",
    "            \n",
    "            yield csv_files\n",
    "        "
   ]
  },
  {
   "cell_type": "code",
   "execution_count": 215,
   "id": "b6e69d50",
   "metadata": {},
   "outputs": [
    {
     "name": "stdout",
     "output_type": "stream",
     "text": [
      "[343   0   8]\n",
      "[  1 216 729]\n",
      "[ 512   27 1000]\n",
      "[ 64 125]\n"
     ]
    }
   ],
   "source": [
    "K = []\n",
    "for i in list(data_loader_([i**3 for i in range(11)])):\n",
    "    print(i)"
   ]
  },
  {
   "cell_type": "code",
   "execution_count": 76,
   "id": "37214b5a",
   "metadata": {},
   "outputs": [
    {
     "data": {
      "text/plain": [
       "[5]"
      ]
     },
     "execution_count": 76,
     "metadata": {},
     "output_type": "execute_result"
    }
   ],
   "source": [
    "[1,2,3,4,5][4:10]"
   ]
  },
  {
   "cell_type": "code",
   "execution_count": null,
   "id": "dabc7b61",
   "metadata": {},
   "outputs": [],
   "source": []
  },
  {
   "cell_type": "code",
   "execution_count": 16,
   "id": "471d4860",
   "metadata": {},
   "outputs": [
    {
     "name": "stdout",
     "output_type": "stream",
     "text": [
      "[tensor([ 0,  1,  2,  3,  4,  5,  6,  7,  8,  9, 10, 11, 12, 13, 14, 15, 16, 17,\n",
      "        18, 19, 20, 21, 22, 23, 24, 25, 26, 27, 28, 29, 30, 31]), tensor([32, 33, 34, 35, 36, 37, 38, 39, 40, 41, 42, 43, 44, 45, 46, 47, 48, 49,\n",
      "        50, 51, 52, 53, 54, 55, 56, 57, 58, 59, 60, 61, 62, 63]), tensor([64, 65, 66, 67, 68, 69, 70, 71, 72, 73, 74, 75, 76, 77, 78, 79, 80, 81,\n",
      "        82, 83, 84, 85, 86, 87, 88, 89, 90, 91, 92, 93, 94, 95]), tensor([96, 97, 98, 99])]\n"
     ]
    }
   ],
   "source": [
    "class MyIterableDataset(torch.utils.data.IterableDataset):\n",
    "    def __init__(self, start, end):\n",
    "        super(MyIterableDataset).__init__()\n",
    "        assert end > start, \"this example code only works with end >= start\"\n",
    "        self.start = start\n",
    "        self.end = end\n",
    "    def __iter__(self):\n",
    "        worker_info = torch.utils.data.get_worker_info()\n",
    "        if worker_info is None:  # single-process data loading, return the full iterator\n",
    "            iter_start = self.start\n",
    "            iter_end = self.end\n",
    "        else:  # in a worker process\n",
    "            # split workload\n",
    "            per_worker = int(math.ceil((self.end - self.start) / float(worker_info.num_workers)))\n",
    "            worker_id = worker_info.id\n",
    "            iter_start = self.start + worker_id * per_worker\n",
    "            iter_end = min(iter_start + per_worker, self.end)\n",
    "        for i in range(iter_start, iter_end):\n",
    "            yield i\n",
    "# should give same set of data as range(3, 7), i.e., [3, 4, 5, 6].\n",
    "ds = MyIterableDataset(start=0, end=100)\n",
    "\n",
    "# Single-process loading\n",
    "print(list(torch.utils.data.DataLoader(ds, num_workers=0, batch_size  = 32)))\n"
   ]
  }
 ],
 "metadata": {
  "kernelspec": {
   "display_name": "Python 3 (ipykernel)",
   "language": "python",
   "name": "python3"
  },
  "language_info": {
   "codemirror_mode": {
    "name": "ipython",
    "version": 3
   },
   "file_extension": ".py",
   "mimetype": "text/x-python",
   "name": "python",
   "nbconvert_exporter": "python",
   "pygments_lexer": "ipython3",
   "version": "3.9.12"
  }
 },
 "nbformat": 4,
 "nbformat_minor": 5
}
