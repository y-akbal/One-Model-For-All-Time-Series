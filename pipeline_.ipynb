{
 "cells": [
  {
   "cell_type": "code",
   "execution_count": 49,
   "id": "9a0672d0",
   "metadata": {},
   "outputs": [],
   "source": [
    "import numpy as np\n"
   ]
  },
  {
   "cell_type": "code",
   "execution_count": 191,
   "id": "1c3382f7",
   "metadata": {},
   "outputs": [],
   "source": [
    "class ts_concatted:\n",
    "    def __init__(self, array:np.ndarray, lengths:np.ndarray,  lags:np.ndarray):\n",
    "        \"\"\"\n",
    "        array should be concatted arrays,\n",
    "        lengths should be the lengths of the individual arrays,\n",
    "        lags should be the lags to be used,\n",
    "        \"\"\"\n",
    "        assert len(lags) > 1, \"Come on dude this is a time series, you gotta be a bit serious !!!!\"\n",
    "        assert len(array) == sum(lengths), \"For partition, sum of the lengths should be equal to total size of the time series concattenated\"\n",
    "        ## -- ##\n",
    "        self.array = array\n",
    "        self.lengths = np.cumsum(lengths)\n",
    "        self.lags = lags\n",
    "        self.horizons = [len_ - lag+1 for len_, lag in zip(lengths, lags)]\n",
    "        self.cumhors = np.cumsum(self.horizons)\n",
    "        self.m = {i:j-i for i,j in enumerate(np.cumsum([0]+lags[:-1]))}\n",
    "\n",
    "    def __place__(self, x:int, array:np.ndarray)->int:\n",
    "        N = len(array, )                      \n",
    "        if 0 <= x < array[0]:\n",
    "            return 0\n",
    "        for i in range(N-1):\n",
    "            if  array[i] <= x < array[i+1]:\n",
    "                return i+1\n",
    "    \n",
    "    def __getitem__(self, i):\n",
    "        if i > self.__len__() -1:\n",
    "            raise IndexError\n",
    "        ### Otherwise go ahead my son ### \n",
    "        place_ = self.__place__(i, self.cumhors)\n",
    "        \n",
    "        X = self.array[i+self.m[place_]:i+self.m[place_]+self.lags[place_]]\n",
    "        enum = place_\n",
    "        return X[:-1], X[-1], enum\n",
    " \n",
    "    def __len__(self)->int:\n",
    "        return len(self.array) - sum(self.lags)+len(self.lags)"
   ]
  },
  {
   "cell_type": "code",
   "execution_count": 193,
   "id": "6ad24902",
   "metadata": {},
   "outputs": [],
   "source": [
    "import numpy as np\n",
    "a = [(-1)**i for i in range(15)]\n",
    "b = [(-2)**(i+1) for i in range(10)]\n",
    "c = [1 for i in range(6)]\n",
    "n = [i for i in range(15)]\n",
    "\n",
    "L = [15, 10, 6, 15]\n",
    "\n",
    "lags = [4, 4, 3, 5]\n",
    "lags_ = [u-v+1 for u,v in zip(L,lags)]\n",
    "t = {i:j-i for i,j in enumerate(np.cumsum([0]+lags[:-1]))}\n",
    "m = np.concatenate([a,b,c,n], axis = 0)\n"
   ]
  },
  {
   "cell_type": "code",
   "execution_count": 194,
   "id": "f9115408",
   "metadata": {},
   "outputs": [],
   "source": [
    "ts = ts_concatted(m, L, lags)"
   ]
  },
  {
   "cell_type": "code",
   "execution_count": 195,
   "id": "9a97644a",
   "metadata": {},
   "outputs": [
    {
     "name": "stdout",
     "output_type": "stream",
     "text": [
      "(array([ 1, -1,  1]), -1, 0)\n",
      "(array([-1,  1, -1]), 1, 0)\n",
      "(array([ 1, -1,  1]), -1, 0)\n",
      "(array([-1,  1, -1]), 1, 0)\n",
      "(array([ 1, -1,  1]), -1, 0)\n",
      "(array([-1,  1, -1]), 1, 0)\n",
      "(array([ 1, -1,  1]), -1, 0)\n",
      "(array([-1,  1, -1]), 1, 0)\n",
      "(array([ 1, -1,  1]), -1, 0)\n",
      "(array([-1,  1, -1]), 1, 0)\n",
      "(array([ 1, -1,  1]), -1, 0)\n",
      "(array([-1,  1, -1]), 1, 0)\n",
      "(array([-2,  4, -8]), 16, 1)\n",
      "(array([ 4, -8, 16]), -32, 1)\n",
      "(array([ -8,  16, -32]), 64, 1)\n",
      "(array([ 16, -32,  64]), -128, 1)\n",
      "(array([ -32,   64, -128]), 256, 1)\n",
      "(array([  64, -128,  256]), -512, 1)\n",
      "(array([-128,  256, -512]), 1024, 1)\n",
      "(array([1, 1]), 1, 2)\n",
      "(array([1, 1]), 1, 2)\n",
      "(array([1, 1]), 1, 2)\n",
      "(array([1, 1]), 1, 2)\n",
      "(array([0, 1, 2, 3]), 4, 3)\n",
      "(array([1, 2, 3, 4]), 5, 3)\n",
      "(array([2, 3, 4, 5]), 6, 3)\n",
      "(array([3, 4, 5, 6]), 7, 3)\n",
      "(array([4, 5, 6, 7]), 8, 3)\n",
      "(array([5, 6, 7, 8]), 9, 3)\n",
      "(array([6, 7, 8, 9]), 10, 3)\n",
      "(array([ 7,  8,  9, 10]), 11, 3)\n",
      "(array([ 8,  9, 10, 11]), 12, 3)\n",
      "(array([ 9, 10, 11, 12]), 13, 3)\n",
      "(array([10, 11, 12, 13]), 14, 3)\n"
     ]
    }
   ],
   "source": [
    "for m in ts:\n",
    "    print(m)\n"
   ]
  },
  {
   "cell_type": "code",
   "execution_count": 5,
   "id": "98dd4f5b",
   "metadata": {},
   "outputs": [],
   "source": [
    "def ind(i):\n",
    "    place_ = place(i, np.cumsum(lags_))\n",
    "    return i+t[place_], place_, m[i+t[place_]:i+t[place_]+lags[place_] ]"
   ]
  },
  {
   "cell_type": "code",
   "execution_count": 83,
   "id": "8f4ddeec",
   "metadata": {},
   "outputs": [
    {
     "name": "stdout",
     "output_type": "stream",
     "text": [
      "(0, 0, array([ 1, -1,  1, -1])) 0\n",
      "(1, 0, array([-1,  1, -1,  1])) 1\n",
      "(2, 0, array([ 1, -1,  1, -1])) 2\n",
      "(3, 0, array([-1,  1, -1,  1])) 3\n",
      "(4, 0, array([ 1, -1,  1, -1])) 4\n",
      "(5, 0, array([-1,  1, -1,  1])) 5\n",
      "(6, 0, array([ 1, -1,  1, -1])) 6\n",
      "(7, 0, array([-1,  1, -1,  1])) 7\n",
      "(8, 0, array([ 1, -1,  1, -1])) 8\n",
      "(9, 0, array([-1,  1, -1,  1])) 9\n",
      "(10, 0, array([ 1, -1,  1, -1])) 10\n",
      "(11, 0, array([-1,  1, -1,  1])) 11\n",
      "(15, 1, array([-2,  4, -8, 16])) 12\n",
      "(16, 1, array([  4,  -8,  16, -32])) 13\n",
      "(17, 1, array([ -8,  16, -32,  64])) 14\n",
      "(18, 1, array([  16,  -32,   64, -128])) 15\n",
      "(19, 1, array([ -32,   64, -128,  256])) 16\n",
      "(20, 1, array([  64, -128,  256, -512])) 17\n",
      "(21, 1, array([-128,  256, -512, 1024])) 18\n",
      "(25, 2, array([1, 1, 1])) 19\n",
      "(26, 2, array([1, 1, 1])) 20\n",
      "(27, 2, array([1, 1, 1])) 21\n",
      "(28, 2, array([1, 1, 1])) 22\n",
      "(31, 3, array([5, 5, 5, 5, 5])) 23\n",
      "(32, 3, array([5, 5, 5, 5, 5])) 24\n",
      "(33, 3, array([5, 5, 5, 5, 5])) 25\n",
      "(34, 3, array([5, 5, 5, 5, 5])) 26\n",
      "(35, 3, array([5, 5, 5, 5, 5])) 27\n",
      "(36, 3, array([5, 5, 5, 5, 5])) 28\n",
      "(37, 3, array([5, 5, 5, 5, 5])) 29\n",
      "(38, 3, array([5, 5, 5, 5, 5])) 30\n",
      "(39, 3, array([5, 5, 5, 5, 5])) 31\n",
      "(40, 3, array([5, 5, 5, 5, 5])) 32\n",
      "(41, 3, array([5, 5, 5, 5, 5])) 33\n"
     ]
    },
    {
     "ename": "KeyError",
     "evalue": "None",
     "output_type": "error",
     "traceback": [
      "\u001b[1;31m---------------------------------------------------------------------------\u001b[0m",
      "\u001b[1;31mKeyError\u001b[0m                                  Traceback (most recent call last)",
      "Input \u001b[1;32mIn [83]\u001b[0m, in \u001b[0;36m<cell line: 1>\u001b[1;34m()\u001b[0m\n\u001b[0;32m      1\u001b[0m \u001b[38;5;28;01mfor\u001b[39;00m i \u001b[38;5;129;01min\u001b[39;00m \u001b[38;5;28mrange\u001b[39m(\u001b[38;5;241m1000\u001b[39m):\n\u001b[1;32m----> 2\u001b[0m     \u001b[38;5;28mprint\u001b[39m(\u001b[43mind\u001b[49m\u001b[43m(\u001b[49m\u001b[43mi\u001b[49m\u001b[43m)\u001b[49m,i)\n",
      "Input \u001b[1;32mIn [5]\u001b[0m, in \u001b[0;36mind\u001b[1;34m(i)\u001b[0m\n\u001b[0;32m      1\u001b[0m \u001b[38;5;28;01mdef\u001b[39;00m \u001b[38;5;21mind\u001b[39m(i):\n\u001b[0;32m      2\u001b[0m     place_ \u001b[38;5;241m=\u001b[39m place(i, np\u001b[38;5;241m.\u001b[39mcumsum(lags_))\n\u001b[1;32m----> 3\u001b[0m     \u001b[38;5;28;01mreturn\u001b[39;00m i\u001b[38;5;241m+\u001b[39m\u001b[43mt\u001b[49m\u001b[43m[\u001b[49m\u001b[43mplace_\u001b[49m\u001b[43m]\u001b[49m, place_, m[i\u001b[38;5;241m+\u001b[39mt[place_]:i\u001b[38;5;241m+\u001b[39mt[place_]\u001b[38;5;241m+\u001b[39mlags[place_] ]\n",
      "\u001b[1;31mKeyError\u001b[0m: None"
     ]
    }
   ],
   "source": [
    "for i in range(1000):\n",
    "    print(ind(i),i)\n"
   ]
  },
  {
   "cell_type": "code",
   "execution_count": null,
   "id": "1bdb59ac",
   "metadata": {},
   "outputs": [],
   "source": []
  }
 ],
 "metadata": {
  "kernelspec": {
   "display_name": "Python 3 (ipykernel)",
   "language": "python",
   "name": "python3"
  },
  "language_info": {
   "codemirror_mode": {
    "name": "ipython",
    "version": 3
   },
   "file_extension": ".py",
   "mimetype": "text/x-python",
   "name": "python",
   "nbconvert_exporter": "python",
   "pygments_lexer": "ipython3",
   "version": "3.9.12"
  }
 },
 "nbformat": 4,
 "nbformat_minor": 5
}
